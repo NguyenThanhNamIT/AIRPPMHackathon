{
 "cells": [
  {
   "cell_type": "markdown",
   "id": "ae22b920",
   "metadata": {},
   "source": [
    "### Explore data"
   ]
  },
  {
   "cell_type": "code",
   "execution_count": 2,
   "id": "7686d27c",
   "metadata": {},
   "outputs": [
    {
     "data": {
      "text/html": [
       "<div>\n",
       "<style scoped>\n",
       "    .dataframe tbody tr th:only-of-type {\n",
       "        vertical-align: middle;\n",
       "    }\n",
       "\n",
       "    .dataframe tbody tr th {\n",
       "        vertical-align: top;\n",
       "    }\n",
       "\n",
       "    .dataframe thead th {\n",
       "        text-align: right;\n",
       "    }\n",
       "</style>\n",
       "<table border=\"1\" class=\"dataframe\">\n",
       "  <thead>\n",
       "    <tr style=\"text-align: right;\">\n",
       "      <th></th>\n",
       "      <th>DateTime</th>\n",
       "      <th>MpKrakAlKras</th>\n",
       "      <th>MpKrakBujaka</th>\n",
       "      <th>MpKrakBulwar</th>\n",
       "      <th>MpKrakOsPias</th>\n",
       "      <th>MpKrakSwoszo</th>\n",
       "      <th>MpKrakWadow</th>\n",
       "      <th>MpKrakZloRog</th>\n",
       "    </tr>\n",
       "  </thead>\n",
       "  <tbody>\n",
       "    <tr>\n",
       "      <th>0</th>\n",
       "      <td>2019-01-01 01:00:00</td>\n",
       "      <td>88.2185</td>\n",
       "      <td>139.7900</td>\n",
       "      <td>120.0570</td>\n",
       "      <td>161.0530</td>\n",
       "      <td>NaN</td>\n",
       "      <td>83.6841</td>\n",
       "      <td>77.8355</td>\n",
       "    </tr>\n",
       "    <tr>\n",
       "      <th>1</th>\n",
       "      <td>2019-01-01 02:00:00</td>\n",
       "      <td>95.2209</td>\n",
       "      <td>92.5099</td>\n",
       "      <td>63.4217</td>\n",
       "      <td>62.3289</td>\n",
       "      <td>NaN</td>\n",
       "      <td>66.3402</td>\n",
       "      <td>82.9678</td>\n",
       "    </tr>\n",
       "    <tr>\n",
       "      <th>2</th>\n",
       "      <td>2019-01-01 03:00:00</td>\n",
       "      <td>85.3689</td>\n",
       "      <td>57.1358</td>\n",
       "      <td>48.6426</td>\n",
       "      <td>56.5202</td>\n",
       "      <td>NaN</td>\n",
       "      <td>55.8833</td>\n",
       "      <td>64.5276</td>\n",
       "    </tr>\n",
       "    <tr>\n",
       "      <th>3</th>\n",
       "      <td>2019-01-01 04:00:00</td>\n",
       "      <td>70.8575</td>\n",
       "      <td>39.4615</td>\n",
       "      <td>36.7828</td>\n",
       "      <td>49.5539</td>\n",
       "      <td>NaN</td>\n",
       "      <td>44.1614</td>\n",
       "      <td>46.5672</td>\n",
       "    </tr>\n",
       "    <tr>\n",
       "      <th>4</th>\n",
       "      <td>2019-01-01 05:00:00</td>\n",
       "      <td>50.1935</td>\n",
       "      <td>27.1423</td>\n",
       "      <td>28.7538</td>\n",
       "      <td>36.1824</td>\n",
       "      <td>NaN</td>\n",
       "      <td>34.5853</td>\n",
       "      <td>48.1257</td>\n",
       "    </tr>\n",
       "  </tbody>\n",
       "</table>\n",
       "</div>"
      ],
      "text/plain": [
       "             DateTime  MpKrakAlKras  MpKrakBujaka  MpKrakBulwar  MpKrakOsPias  \\\n",
       "0 2019-01-01 01:00:00       88.2185      139.7900      120.0570      161.0530   \n",
       "1 2019-01-01 02:00:00       95.2209       92.5099       63.4217       62.3289   \n",
       "2 2019-01-01 03:00:00       85.3689       57.1358       48.6426       56.5202   \n",
       "3 2019-01-01 04:00:00       70.8575       39.4615       36.7828       49.5539   \n",
       "4 2019-01-01 05:00:00       50.1935       27.1423       28.7538       36.1824   \n",
       "\n",
       "   MpKrakSwoszo  MpKrakWadow  MpKrakZloRog  \n",
       "0           NaN      83.6841       77.8355  \n",
       "1           NaN      66.3402       82.9678  \n",
       "2           NaN      55.8833       64.5276  \n",
       "3           NaN      44.1614       46.5672  \n",
       "4           NaN      34.5853       48.1257  "
      ]
     },
     "execution_count": 2,
     "metadata": {},
     "output_type": "execute_result"
    }
   ],
   "source": [
    "import pandas as pd\n",
    "\n",
    "pm10 = pd.read_excel(\"../../data/AirQuality_Krakow/2019_PM10_1g.xlsx\")\n",
    "pm10.head()"
   ]
  },
  {
   "cell_type": "code",
   "execution_count": 3,
   "id": "9e33021f",
   "metadata": {},
   "outputs": [
    {
     "name": "stdout",
     "output_type": "stream",
     "text": [
      "Data shape: (8760, 8)\n",
      "Statistic:                   DateTime  MpKrakAlKras  MpKrakBujaka  MpKrakBulwar  \\\n",
      "count                 8760   8730.000000   8655.000000   8712.000000   \n",
      "mean   2019-07-02 12:30:00     49.453956     34.761797     32.751912   \n",
      "min    2019-01-01 01:00:00      3.446220      3.000000      3.000000   \n",
      "25%    2019-04-02 06:45:00     26.605000     16.841850     16.027325   \n",
      "50%    2019-07-02 12:30:00     39.768750     25.826100     24.614750   \n",
      "75%    2019-10-01 18:15:00     62.136950     41.876350     41.524600   \n",
      "max    2020-01-01 00:00:00    251.398000    222.938000    349.811000   \n",
      "std                    NaN     33.578147     28.920883     25.066072   \n",
      "\n",
      "       MpKrakOsPias  MpKrakSwoszo  MpKrakWadow  MpKrakZloRog  \n",
      "count   8606.000000   8384.000000  8691.000000   8482.000000  \n",
      "mean      31.020584     30.735291    28.883373     34.862077  \n",
      "min        3.000000      3.000000     2.997050      3.000000  \n",
      "25%       15.792450     15.289300    14.253700     17.422300  \n",
      "50%       23.825200     23.223750    22.208600     26.578650  \n",
      "75%       37.649550     37.014200    35.081750     42.563000  \n",
      "max      212.770000    316.909000   202.675000    233.591000  \n",
      "std       23.961634     25.516721    22.719000     27.157954  \n",
      "\n",
      "Columns: ['DateTime', 'MpKrakAlKras', 'MpKrakBujaka', 'MpKrakBulwar', 'MpKrakOsPias', 'MpKrakSwoszo', 'MpKrakWadow', 'MpKrakZloRog']\n",
      "\n",
      "Data types:\n",
      "DateTime        datetime64[ns]\n",
      "MpKrakAlKras           float64\n",
      "MpKrakBujaka           float64\n",
      "MpKrakBulwar           float64\n",
      "MpKrakOsPias           float64\n",
      "MpKrakSwoszo           float64\n",
      "MpKrakWadow            float64\n",
      "MpKrakZloRog           float64\n",
      "dtype: object\n",
      "\n",
      "First few timestamps:\n",
      "0   2019-01-01 01:00:00\n",
      "1   2019-01-01 02:00:00\n",
      "2   2019-01-01 03:00:00\n",
      "3   2019-01-01 04:00:00\n",
      "4   2019-01-01 05:00:00\n",
      "Name: DateTime, dtype: datetime64[ns]\n",
      "\n",
      "Date range:\n",
      "From: 2019-01-01 01:00:00\n",
      "To: 2020-01-01 00:00:00\n"
     ]
    }
   ],
   "source": [
    "print(\"Data shape:\", pm10.shape)\n",
    "print(f\"Statistic: {pm10.describe()}\")\n",
    "print(\"\\nColumns:\", pm10.columns.tolist())\n",
    "print(\"\\nData types:\")\n",
    "print(pm10.dtypes)\n",
    "print(\"\\nFirst few timestamps:\")\n",
    "print(pm10['DateTime'].head())\n",
    "print(\"\\nDate range:\")\n",
    "print(f\"From: {pm10['DateTime'].min()}\")\n",
    "print(f\"To: {pm10['DateTime'].max()}\")"
   ]
  },
  {
   "cell_type": "markdown",
   "id": "4c53659b",
   "metadata": {},
   "source": [
    "### Explore Station data\n"
   ]
  },
  {
   "cell_type": "code",
   "execution_count": 4,
   "id": "4da42a9a",
   "metadata": {},
   "outputs": [
    {
     "name": "stdout",
     "output_type": "stream",
     "text": [
      "Station information:\n",
      "Number of stations: 7\n",
      "\n",
      "Station columns: ['Station Code', 'International Code', 'Street address', 'Area Type', 'Station Category', 'WGS84 φ N', 'WGS84 λ E']\n",
      "\n",
      "Station details:\n"
     ]
    },
    {
     "data": {
      "text/html": [
       "<div>\n",
       "<style scoped>\n",
       "    .dataframe tbody tr th:only-of-type {\n",
       "        vertical-align: middle;\n",
       "    }\n",
       "\n",
       "    .dataframe tbody tr th {\n",
       "        vertical-align: top;\n",
       "    }\n",
       "\n",
       "    .dataframe thead th {\n",
       "        text-align: right;\n",
       "    }\n",
       "</style>\n",
       "<table border=\"1\" class=\"dataframe\">\n",
       "  <thead>\n",
       "    <tr style=\"text-align: right;\">\n",
       "      <th></th>\n",
       "      <th>Station Code</th>\n",
       "      <th>International Code</th>\n",
       "      <th>Street address</th>\n",
       "      <th>Area Type</th>\n",
       "      <th>Station Category</th>\n",
       "      <th>WGS84 φ N</th>\n",
       "      <th>WGS84 λ E</th>\n",
       "    </tr>\n",
       "  </thead>\n",
       "  <tbody>\n",
       "    <tr>\n",
       "      <th>0</th>\n",
       "      <td>MpKrakAlKras</td>\n",
       "      <td>PL0012A</td>\n",
       "      <td>Kraków, Aleja Krasińskiego</td>\n",
       "      <td>urban</td>\n",
       "      <td>stationary container unit</td>\n",
       "      <td>50.057678</td>\n",
       "      <td>19.926189</td>\n",
       "    </tr>\n",
       "    <tr>\n",
       "      <th>1</th>\n",
       "      <td>MpKrakBujaka</td>\n",
       "      <td>PL0501A</td>\n",
       "      <td>Kraków, ul. Bujaka</td>\n",
       "      <td>urban</td>\n",
       "      <td>stationary container unit</td>\n",
       "      <td>50.010575</td>\n",
       "      <td>19.949189</td>\n",
       "    </tr>\n",
       "    <tr>\n",
       "      <th>2</th>\n",
       "      <td>MpKrakBulwar</td>\n",
       "      <td>PL0039A</td>\n",
       "      <td>Kraków, ul. Bulwarowa</td>\n",
       "      <td>urban</td>\n",
       "      <td>stationary container unit</td>\n",
       "      <td>50.069308</td>\n",
       "      <td>20.053492</td>\n",
       "    </tr>\n",
       "    <tr>\n",
       "      <th>3</th>\n",
       "      <td>MpKrakOsPias</td>\n",
       "      <td>PL0642A</td>\n",
       "      <td>Kraków, os. Piastów</td>\n",
       "      <td>urban</td>\n",
       "      <td>free-standing dust sampler</td>\n",
       "      <td>50.098508</td>\n",
       "      <td>20.018269</td>\n",
       "    </tr>\n",
       "    <tr>\n",
       "      <th>4</th>\n",
       "      <td>MpKrakSwoszo</td>\n",
       "      <td>PL0735A</td>\n",
       "      <td>Kraków, os. Swoszowice</td>\n",
       "      <td>urban</td>\n",
       "      <td>free-standing dust sampler</td>\n",
       "      <td>49.991442</td>\n",
       "      <td>19.936792</td>\n",
       "    </tr>\n",
       "    <tr>\n",
       "      <th>5</th>\n",
       "      <td>MpKrakWadow</td>\n",
       "      <td>PL0670A</td>\n",
       "      <td>Kraków, os. Wadów</td>\n",
       "      <td>urban</td>\n",
       "      <td>stationary container unit</td>\n",
       "      <td>50.100569</td>\n",
       "      <td>20.122561</td>\n",
       "    </tr>\n",
       "    <tr>\n",
       "      <th>6</th>\n",
       "      <td>MpKrakZloRog</td>\n",
       "      <td>PL0643A</td>\n",
       "      <td>Kraków, ul. Złoty Róg</td>\n",
       "      <td>urban</td>\n",
       "      <td>free-standing dust sampler</td>\n",
       "      <td>50.081197</td>\n",
       "      <td>19.895358</td>\n",
       "    </tr>\n",
       "  </tbody>\n",
       "</table>\n",
       "</div>"
      ],
      "text/plain": [
       "   Station Code International Code              Street address Area Type  \\\n",
       "0  MpKrakAlKras            PL0012A  Kraków, Aleja Krasińskiego     urban   \n",
       "1  MpKrakBujaka            PL0501A          Kraków, ul. Bujaka     urban   \n",
       "2  MpKrakBulwar            PL0039A       Kraków, ul. Bulwarowa     urban   \n",
       "3  MpKrakOsPias            PL0642A         Kraków, os. Piastów     urban   \n",
       "4  MpKrakSwoszo            PL0735A      Kraków, os. Swoszowice     urban   \n",
       "5   MpKrakWadow            PL0670A           Kraków, os. Wadów     urban   \n",
       "6  MpKrakZloRog            PL0643A       Kraków, ul. Złoty Róg     urban   \n",
       "\n",
       "             Station Category  WGS84 φ N  WGS84 λ E  \n",
       "0   stationary container unit  50.057678  19.926189  \n",
       "1   stationary container unit  50.010575  19.949189  \n",
       "2   stationary container unit  50.069308  20.053492  \n",
       "3  free-standing dust sampler  50.098508  20.018269  \n",
       "4  free-standing dust sampler  49.991442  19.936792  \n",
       "5   stationary container unit  50.100569  20.122561  \n",
       "6  free-standing dust sampler  50.081197  19.895358  "
      ]
     },
     "execution_count": 4,
     "metadata": {},
     "output_type": "execute_result"
    }
   ],
   "source": [
    "\n",
    "stations_df = pd.read_excel(\"../../data/AirQuality_Krakow/Stations.xlsx\")\n",
    "print(\"Station information:\")\n",
    "print(f\"Number of stations: {len(stations_df)}\")\n",
    "print(\"\\nStation columns:\", stations_df.columns.tolist())\n",
    "print(\"\\nStation details:\")\n",
    "stations_df"
   ]
  },
  {
   "cell_type": "markdown",
   "id": "a305d95d",
   "metadata": {},
   "source": [
    "### Explore Weather data"
   ]
  },
  {
   "cell_type": "code",
   "execution_count": 5,
   "id": "7841d037",
   "metadata": {},
   "outputs": [
    {
     "name": "stdout",
     "output_type": "stream",
     "text": [
      "Basis statistic:             STATION   SOURCE      LATITUDE     LONGITUDE     ELEVATION  \\\n",
      "count  2.618000e+04  26180.0  2.618000e+04  2.618000e+04  2.618000e+04   \n",
      "mean   1.256610e+10      4.0  5.007773e+01  1.978484e+01  2.410900e+02   \n",
      "std    0.000000e+00      0.0  2.094009e-11  5.304303e-12  8.734158e-11   \n",
      "min    1.256610e+10      4.0  5.007773e+01  1.978484e+01  2.410900e+02   \n",
      "25%    1.256610e+10      4.0  5.007773e+01  1.978484e+01  2.410900e+02   \n",
      "50%    1.256610e+10      4.0  5.007773e+01  1.978484e+01  2.410900e+02   \n",
      "75%    1.256610e+10      4.0  5.007773e+01  1.978484e+01  2.410900e+02   \n",
      "max    1.256610e+10      4.0  5.007773e+01  1.978484e+01  2.410900e+02   \n",
      "\n",
      "       CALL_SIGN  \n",
      "count    26180.0  \n",
      "mean     99999.0  \n",
      "std          0.0  \n",
      "min      99999.0  \n",
      "25%      99999.0  \n",
      "50%      99999.0  \n",
      "75%      99999.0  \n",
      "max      99999.0  \n",
      "colums: Index(['STATION', 'DATE', 'SOURCE', 'LATITUDE', 'LONGITUDE', 'ELEVATION',\n",
      "       'NAME', 'REPORT_TYPE', 'CALL_SIGN', 'QUALITY_CONTROL', 'WND', 'CIG',\n",
      "       'VIS', 'TMP', 'DEW', 'SLP', 'AA1', 'AA2', 'AJ1', 'AY1', 'AY2', 'AZ1',\n",
      "       'AZ2', 'ED1', 'GA1', 'GA2', 'GA3', 'GE1', 'GF1', 'IA1', 'KA1', 'KA2',\n",
      "       'MA1', 'MD1', 'MW1', 'MW2', 'MW3', 'OC1', 'OD1', 'OD2', 'OD3', 'REM',\n",
      "       'EQD'],\n",
      "      dtype='object')\n"
     ]
    },
    {
     "name": "stderr",
     "output_type": "stream",
     "text": [
      "C:\\Users\\PC\\AppData\\Local\\Temp\\ipykernel_38728\\1608340348.py:1: DtypeWarning: Columns (36) have mixed types. Specify dtype option on import or set low_memory=False.\n",
      "  weather_df = pd.read_csv(\"../../data/Weather_Krakow/2019.csv\")\n"
     ]
    }
   ],
   "source": [
    "weather_df = pd.read_csv(\"../../data/Weather_Krakow/2019.csv\")\n",
    "weather_df.head()\n",
    "print(f\"Basis statistic: {weather_df.describe()}\")\n",
    "print(f\"colums: {weather_df.columns}\")"
   ]
  },
  {
   "cell_type": "markdown",
   "id": "229d08ea",
   "metadata": {},
   "source": [
    "### Preprocess data"
   ]
  },
  {
   "cell_type": "markdown",
   "id": "190d4a49",
   "metadata": {},
   "source": [
    "1. Load the data\n",
    "2. Data quaility check\n",
    "3. Data cleaning and preprocessing\n",
    "4. Save the process data"
   ]
  },
  {
   "cell_type": "code",
   "execution_count": 6,
   "id": "86fa223d",
   "metadata": {},
   "outputs": [
    {
     "name": "stdout",
     "output_type": "stream",
     "text": [
      "Loading weather 2019.csv...\n",
      "Loading weather 2020.csv...\n",
      "Loading weather 2021.csv...\n",
      "Loading weather 2022.csv...\n",
      "Loading weather 2023.csv...\n",
      "Combined weather data: 130328 records\n"
     ]
    }
   ],
   "source": [
    "from pathlib import Path\n",
    "\n",
    "\n",
    "def load_all_weather_data():\n",
    "    weather_dir = Path(\"../../data/Weather_Krakow\")\n",
    "    weather_files = [\"2019.csv\", \"2020.csv\", \"2021.csv\", \"2022.csv\", \"2023.csv\"]\n",
    "    \n",
    "    all_weather = []\n",
    "    \n",
    "    for file in weather_files:\n",
    "        file_path = weather_dir / file\n",
    "        if file_path.exists():\n",
    "            print(f\"Loading weather {file}...\")\n",
    "            df = pd.read_csv(file_path, low_memory=False)\n",
    "            df['DATE'] = pd.to_datetime(df['DATE'])\n",
    "            all_weather.append(df)\n",
    "        else:\n",
    "            print(f\"{file} not found\")\n",
    "    \n",
    "    if all_weather:\n",
    "        combined_df = pd.concat(all_weather, ignore_index=True)\n",
    "        combined_df = combined_df.sort_values('DATE').reset_index(drop=True)\n",
    "        print(f\"Combined weather data: {len(combined_df)} records\")\n",
    "        return combined_df\n",
    "    else:\n",
    "        return None\n",
    "\n",
    "\n",
    "weather_all_data = load_all_weather_data()\n"
   ]
  },
  {
   "cell_type": "code",
   "execution_count": 7,
   "id": "a1865f73",
   "metadata": {},
   "outputs": [
    {
     "name": "stdout",
     "output_type": "stream",
     "text": [
      "Loading 2019_PM10_1g.xlsx...\n",
      "  - Shape: (8760, 8)\n",
      "Loading 2020_PM10_1g.xlsx...\n",
      "  - Shape: (8784, 8)\n",
      "Loading 2021_PM10_1g.xlsx...\n",
      "  - Shape: (8760, 8)\n",
      "Loading 2022_PM10_1g.xlsx...\n",
      "  - Shape: (8760, 7)\n",
      "Loading 2023_PM10_1g.xlsx...\n",
      "  - Shape: (8760, 8)\n"
     ]
    }
   ],
   "source": [
    "def load_all_pm10_data():\n",
    "    data_dir = Path(\"../../data/AirQuality_Krakow\")\n",
    "    pm10_files = [\n",
    "        \"2019_PM10_1g.xlsx\",\n",
    "        \"2020_PM10_1g.xlsx\", \n",
    "        \"2021_PM10_1g.xlsx\",\n",
    "        \"2022_PM10_1g.xlsx\",\n",
    "        \"2023_PM10_1g.xlsx\"\n",
    "    ]\n",
    "    \n",
    "    all_data = []\n",
    "    \n",
    "    for file in pm10_files:\n",
    "        file_path = data_dir / file\n",
    "        if file_path.exists():\n",
    "            print(f\"Loading {file}...\")\n",
    "            df = pd.read_excel(file_path)\n",
    "            df['DateTime'] = pd.to_datetime(df['DateTime'])\n",
    "            all_data.append(df)\n",
    "            print(f\"  - Shape: {df.shape}\")\n",
    "        else:\n",
    "            print(f\"Warning: {file} not found\")\n",
    "    \n",
    "    if all_data:\n",
    "        combined_df = pd.concat(all_data, ignore_index=True)\n",
    "        combined_df = combined_df.sort_values('DateTime').reset_index(drop=True)\n",
    "        return combined_df\n",
    "    else:\n",
    "        return None\n",
    "\n",
    "pm10_all_years = load_all_pm10_data()"
   ]
  },
  {
   "cell_type": "code",
   "execution_count": 8,
   "id": "62b384d8",
   "metadata": {},
   "outputs": [
    {
     "name": "stdout",
     "output_type": "stream",
     "text": [
      "Loaded 7 stations\n",
      "Station mapping created for 7 stations\n",
      "(Timestamp('2019-01-01 01:00:00'), Timestamp('2020-01-01 00:00:00'))\n",
      "(Timestamp('2019-01-01 00:00:00'), Timestamp('2023-12-31 23:30:00'))\n",
      "Overlap duration: 364 days\n"
     ]
    }
   ],
   "source": [
    "stations_all_data = pd.read_excel(\"../../data/AirQuality_Krakow/Stations.xlsx\")\n",
    "print(f\"Loaded {len(stations_all_data)} stations\")\n",
    "\n",
    "station_mapping = {}\n",
    "for _, row in stations_all_data.iterrows():\n",
    "    station_code = row['Station Code']\n",
    "    station_mapping[station_code] = {\n",
    "        'code': station_code,\n",
    "        'international_code': row.get('International Code', ''),\n",
    "        'address': row.get('Street address', ''),\n",
    "        'latitude': row['WGS84 φ N'],\n",
    "        'longitude': row['WGS84 λ E'],\n",
    "        'area_type': row.get('Area Type', ''),\n",
    "        'category': row.get('Station Category', '')\n",
    "    }\n",
    "\n",
    "print(f\"Station mapping created for {len(station_mapping)} stations\")\n",
    "\n",
    "pm10_available = 'pm10' in locals() and pm10 is not None\n",
    "weather_available = 'weather_all_data' in locals() and weather_all_data is not None\n",
    "\n",
    "\n",
    "\n",
    "if pm10_available and weather_available:\n",
    "    pm10_date_range = (pm10['DateTime'].min(), pm10['DateTime'].max())\n",
    "    weather_date_range = (weather_all_data['DATE'].min(), weather_all_data['DATE'].max())\n",
    "    \n",
    "    print(pm10_date_range)\n",
    "    print(weather_date_range)\n",
    "    \n",
    "    overlap_start = max(pm10_date_range[0], weather_date_range[0])\n",
    "    overlap_end = min(pm10_date_range[1], weather_date_range[1])\n",
    "    \n",
    "    \n",
    "    \n",
    "    overlap_days = (overlap_end - overlap_start).days\n",
    "    print(f\"Overlap duration: {overlap_days} days\")\n",
    "else:\n",
    "    print(\"khong compare dc \")"
   ]
  },
  {
   "cell_type": "code",
   "execution_count": 14,
   "id": "ca7a4446",
   "metadata": {},
   "outputs": [
    {
     "name": "stdout",
     "output_type": "stream",
     "text": [
      "DateTime          0\n",
      "MpKrakAlKras     30\n",
      "MpKrakBujaka    105\n",
      "MpKrakBulwar     48\n",
      "MpKrakOsPias    154\n",
      "MpKrakSwoszo    376\n",
      "MpKrakWadow      69\n",
      "MpKrakZloRog    278\n",
      "dtype: int64\n",
      "8760\n"
     ]
    }
   ],
   "source": [
    "pm10.head()\n",
    "pm10.describe()\n",
    "print(pm10.isna().sum())\n",
    "print(len(pm10))"
   ]
  },
  {
   "cell_type": "code",
   "execution_count": 15,
   "id": "3cceff95",
   "metadata": {},
   "outputs": [],
   "source": [
    "# fill na của pm10 bằng cách nội suy tuyến tính, set date, time làm index \n",
    "pm10 = pm10.set_index('DateTime')\n",
    "pm10 = pm10.interpolate(method='time')\n",
    "pm10 = pm10.reset_index()"
   ]
  },
  {
   "cell_type": "code",
   "execution_count": 20,
   "id": "8c99e340",
   "metadata": {},
   "outputs": [
    {
     "name": "stdout",
     "output_type": "stream",
     "text": [
      "STATION                 0\n",
      "DATE                    0\n",
      "SOURCE                  0\n",
      "LATITUDE                0\n",
      "LONGITUDE               0\n",
      "ELEVATION               0\n",
      "NAME                    0\n",
      "REPORT_TYPE             0\n",
      "CALL_SIGN               0\n",
      "QUALITY_CONTROL         0\n",
      "WND                     0\n",
      "CIG                     0\n",
      "VIS                     0\n",
      "TMP                     0\n",
      "DEW                     0\n",
      "SLP                     0\n",
      "AA1                123074\n",
      "AA2                129323\n",
      "AJ1                130122\n",
      "AY1                114226\n",
      "AY2                114226\n",
      "AZ1                129709\n",
      "AZ2                129709\n",
      "ED1                128621\n",
      "GA1                 39239\n",
      "GA2                 96485\n",
      "GA3                126028\n",
      "GE1                 39239\n",
      "GF1                 32484\n",
      "IA1                130083\n",
      "KA1                126703\n",
      "KA2                126703\n",
      "MA1                     1\n",
      "MD1                 86877\n",
      "MW1                 94393\n",
      "MW2                126909\n",
      "MW3                130293\n",
      "OC1                129660\n",
      "OD1                117300\n",
      "OD2                127252\n",
      "OD3                129732\n",
      "REM                     0\n",
      "EQD                125339\n",
      "IA2                130289\n",
      "dtype: int64\n",
      "130328\n"
     ]
    }
   ],
   "source": [
    "weather_all_data.head()\n",
    "weather_all_data.describe()\n",
    "print(weather_all_data.isna().sum())\n",
    "print(len(weather_all_data))\n"
   ]
  },
  {
   "cell_type": "code",
   "execution_count": 21,
   "id": "dfdd25ff",
   "metadata": {},
   "outputs": [],
   "source": [
    "# loại bỏ các cột bị thiếu hơn 80%\n",
    "threshold = 0.8 * len(weather_all_data)\n",
    "weather_all_data = weather_all_data.dropna(axis=1, thresh=(len(weather_all_data) - threshold))\n"
   ]
  },
  {
   "cell_type": "code",
   "execution_count": 22,
   "id": "e1d041d3",
   "metadata": {},
   "outputs": [
    {
     "name": "stderr",
     "output_type": "stream",
     "text": [
      "C:\\Users\\PC\\AppData\\Local\\Temp\\ipykernel_38728\\3799247957.py:2: FutureWarning: DataFrame.interpolate with object dtype is deprecated and will raise in a future version. Call obj.infer_objects(copy=False) before interpolating instead.\n",
      "  weather_all_data = weather_all_data.interpolate(method='time')\n"
     ]
    }
   ],
   "source": [
    "weather_all_data = weather_all_data.set_index('DATE')\n",
    "weather_all_data = weather_all_data.interpolate(method='time')\n",
    "weather_all_data = weather_all_data.reset_index()"
   ]
  },
  {
   "cell_type": "code",
   "execution_count": 23,
   "id": "870b75dd",
   "metadata": {},
   "outputs": [],
   "source": [
    "weather_all_data = weather_all_data.dropna()"
   ]
  },
  {
   "cell_type": "code",
   "execution_count": 24,
   "id": "d730ffa3",
   "metadata": {},
   "outputs": [
    {
     "name": "stdout",
     "output_type": "stream",
     "text": [
      "DATE               0\n",
      "STATION            0\n",
      "SOURCE             0\n",
      "LATITUDE           0\n",
      "LONGITUDE          0\n",
      "ELEVATION          0\n",
      "NAME               0\n",
      "REPORT_TYPE        0\n",
      "CALL_SIGN          0\n",
      "QUALITY_CONTROL    0\n",
      "WND                0\n",
      "CIG                0\n",
      "VIS                0\n",
      "TMP                0\n",
      "DEW                0\n",
      "SLP                0\n",
      "GA1                0\n",
      "GA2                0\n",
      "GE1                0\n",
      "GF1                0\n",
      "MA1                0\n",
      "MD1                0\n",
      "MW1                0\n",
      "REM                0\n",
      "dtype: int64\n",
      "4536\n"
     ]
    }
   ],
   "source": [
    "weather_all_data.head()\n",
    "weather_all_data.describe()\n",
    "print(weather_all_data.isna().sum())\n",
    "print(len(weather_all_data))\n"
   ]
  },
  {
   "cell_type": "code",
   "execution_count": null,
   "id": "5bab2951",
   "metadata": {},
   "outputs": [],
   "source": [
    "# pm10 = pm10[(pm10['DateTime'] >= start) & (pm10['DateTime'] <= end)]\n",
    "# weather_all_data = weather_all_data[(weather_all_data['DATE'] >= start) & (weather['DATE'] <= end)]\n"
   ]
  }
 ],
 "metadata": {
  "kernelspec": {
   "display_name": "Python 3.10 (base)",
   "language": "python",
   "name": "base"
  },
  "language_info": {
   "codemirror_mode": {
    "name": "ipython",
    "version": 3
   },
   "file_extension": ".py",
   "mimetype": "text/x-python",
   "name": "python",
   "nbconvert_exporter": "python",
   "pygments_lexer": "ipython3",
   "version": "3.12.9"
  }
 },
 "nbformat": 4,
 "nbformat_minor": 5
}
